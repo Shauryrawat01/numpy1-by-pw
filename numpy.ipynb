{
 "cells": [
  {
   "cell_type": "code",
   "execution_count": 1,
   "id": "6b26527e-3ffe-4076-8e3e-4e2eaec441ba",
   "metadata": {},
   "outputs": [],
   "source": [
    "import numpy as np"
   ]
  },
  {
   "cell_type": "code",
   "execution_count": 2,
   "id": "e6a97bae-37ac-4e6b-a54e-f4e3a3a8e1c7",
   "metadata": {},
   "outputs": [],
   "source": [
    "l= [1,2,3,5,46,8]"
   ]
  },
  {
   "cell_type": "code",
   "execution_count": 3,
   "id": "5e90fb30-e68c-4f44-a084-daaaa4bf9e7a",
   "metadata": {},
   "outputs": [],
   "source": [
    "ar = np.array(l)"
   ]
  },
  {
   "cell_type": "code",
   "execution_count": 4,
   "id": "7c26458a-cb37-43d0-a451-8d5e98cac672",
   "metadata": {},
   "outputs": [
    {
     "data": {
      "text/plain": [
       "numpy.ndarray"
      ]
     },
     "execution_count": 4,
     "metadata": {},
     "output_type": "execute_result"
    }
   ],
   "source": [
    "type(ar)"
   ]
  },
  {
   "cell_type": "code",
   "execution_count": 5,
   "id": "6fad8a04-e1d7-48f6-88d4-4c19fb252350",
   "metadata": {},
   "outputs": [
    {
     "data": {
      "text/plain": [
       "array([[1, 2],\n",
       "       [3, 4]])"
      ]
     },
     "execution_count": 5,
     "metadata": {},
     "output_type": "execute_result"
    }
   ],
   "source": [
    "np.array([[1,2],[3,4]])"
   ]
  },
  {
   "cell_type": "code",
   "execution_count": 6,
   "id": "61add7ce-690e-4fca-ab32-49f3d09332fd",
   "metadata": {},
   "outputs": [
    {
     "data": {
      "text/plain": [
       "array([ 1,  2,  3,  5, 46,  8])"
      ]
     },
     "execution_count": 6,
     "metadata": {},
     "output_type": "execute_result"
    }
   ],
   "source": [
    "np.asarray(l)"
   ]
  },
  {
   "cell_type": "code",
   "execution_count": 7,
   "id": "296f474e-86db-4c8c-9262-02fd4ec5f9cf",
   "metadata": {},
   "outputs": [],
   "source": [
    "a=[2,3,4]"
   ]
  },
  {
   "cell_type": "code",
   "execution_count": 8,
   "id": "1c6b4155-8628-41ab-bf3b-aebb01de388a",
   "metadata": {},
   "outputs": [
    {
     "data": {
      "text/plain": [
       "array([2, 3, 4])"
      ]
     },
     "execution_count": 8,
     "metadata": {},
     "output_type": "execute_result"
    }
   ],
   "source": [
    "np.asanyarray(a)"
   ]
  },
  {
   "cell_type": "code",
   "execution_count": 9,
   "id": "297cfc5b-7386-418c-8f0e-8cc5430d3d10",
   "metadata": {},
   "outputs": [],
   "source": [
    " b=np.matrix(l)"
   ]
  },
  {
   "cell_type": "code",
   "execution_count": 10,
   "id": "147717d0-9cbd-4b64-afa0-f3f9fe8717c1",
   "metadata": {},
   "outputs": [
    {
     "data": {
      "text/plain": [
       "matrix([[ 1,  2,  3,  5, 46,  8]])"
      ]
     },
     "execution_count": 10,
     "metadata": {},
     "output_type": "execute_result"
    }
   ],
   "source": [
    "b"
   ]
  },
  {
   "cell_type": "code",
   "execution_count": 11,
   "id": "0a140cc0-be0f-457d-baeb-2afe101cbfc9",
   "metadata": {},
   "outputs": [],
   "source": [
    "a= np.array(l)"
   ]
  },
  {
   "cell_type": "code",
   "execution_count": 12,
   "id": "7219c240-113c-4262-8742-4c8f2883b665",
   "metadata": {},
   "outputs": [
    {
     "data": {
      "text/plain": [
       "array([ 1,  2,  3,  5, 46,  8])"
      ]
     },
     "execution_count": 12,
     "metadata": {},
     "output_type": "execute_result"
    }
   ],
   "source": [
    "a"
   ]
  },
  {
   "cell_type": "code",
   "execution_count": 13,
   "id": "325808d2-6f1c-49ff-b44a-a6f62b052898",
   "metadata": {},
   "outputs": [],
   "source": [
    "c= a"
   ]
  },
  {
   "cell_type": "code",
   "execution_count": 14,
   "id": "abc46705-f4b6-406f-9ef3-be21049c8829",
   "metadata": {},
   "outputs": [
    {
     "data": {
      "text/plain": [
       "array([ 1,  2,  3,  5, 46,  8])"
      ]
     },
     "execution_count": 14,
     "metadata": {},
     "output_type": "execute_result"
    }
   ],
   "source": [
    "c"
   ]
  },
  {
   "cell_type": "code",
   "execution_count": 15,
   "id": "5eefef5c-9ae2-40db-a660-f1f3d7c331c6",
   "metadata": {},
   "outputs": [
    {
     "data": {
      "text/plain": [
       "array([ 1,  2,  3,  5, 46,  8])"
      ]
     },
     "execution_count": 15,
     "metadata": {},
     "output_type": "execute_result"
    }
   ],
   "source": [
    "a"
   ]
  },
  {
   "cell_type": "code",
   "execution_count": 16,
   "id": "817b815e-75d5-40e9-898d-a37c450cc16e",
   "metadata": {},
   "outputs": [],
   "source": [
    "c[0]=100 #this process is known as solo copy"
   ]
  },
  {
   "cell_type": "code",
   "execution_count": 17,
   "id": "7d47def2-eae2-433a-9a8c-62a6b7e4d734",
   "metadata": {},
   "outputs": [
    {
     "data": {
      "text/plain": [
       "array([100,   2,   3,   5,  46,   8])"
      ]
     },
     "execution_count": 17,
     "metadata": {},
     "output_type": "execute_result"
    }
   ],
   "source": [
    "c"
   ]
  },
  {
   "cell_type": "code",
   "execution_count": 18,
   "id": "e33162ee-2c83-4ad8-a271-4d43c8c13982",
   "metadata": {},
   "outputs": [
    {
     "data": {
      "text/plain": [
       "array([100,   2,   3,   5,  46,   8])"
      ]
     },
     "execution_count": 18,
     "metadata": {},
     "output_type": "execute_result"
    }
   ],
   "source": [
    "a"
   ]
  },
  {
   "cell_type": "code",
   "execution_count": 19,
   "id": "701b5bbb-9e81-452b-b5fc-95156f8a74ed",
   "metadata": {},
   "outputs": [],
   "source": [
    "d= np.copy(a)  #this allocate data in a new way.   and this is also known deep copy"
   ]
  },
  {
   "cell_type": "code",
   "execution_count": 20,
   "id": "dabec320-68df-405b-9630-3fa324e53684",
   "metadata": {},
   "outputs": [],
   "source": [
    "a[1]=400"
   ]
  },
  {
   "cell_type": "code",
   "execution_count": 21,
   "id": "69ac3827-dec9-47dc-a1e2-408c4cc4418e",
   "metadata": {},
   "outputs": [
    {
     "data": {
      "text/plain": [
       "array([100, 400,   3,   5,  46,   8])"
      ]
     },
     "execution_count": 21,
     "metadata": {},
     "output_type": "execute_result"
    }
   ],
   "source": [
    "a"
   ]
  },
  {
   "cell_type": "code",
   "execution_count": 22,
   "id": "5758622f-091f-4b9f-af77-950a35e5e949",
   "metadata": {},
   "outputs": [
    {
     "data": {
      "text/plain": [
       "array([100,   2,   3,   5,  46,   8])"
      ]
     },
     "execution_count": 22,
     "metadata": {},
     "output_type": "execute_result"
    }
   ],
   "source": [
    "d"
   ]
  },
  {
   "cell_type": "code",
   "execution_count": 23,
   "id": "884939e2-1e77-4da5-b10a-07208b3374b6",
   "metadata": {},
   "outputs": [
    {
     "data": {
      "text/plain": [
       "array([[ True, False, False],\n",
       "       [False,  True, False],\n",
       "       [False, False,  True]])"
      ]
     },
     "execution_count": 23,
     "metadata": {},
     "output_type": "execute_result"
    }
   ],
   "source": [
    "np.fromfunction(lambda i,j : i ==j, (3,3))"
   ]
  },
  {
   "cell_type": "code",
   "execution_count": 24,
   "id": "c0080412-6852-42c4-8d7f-7623bd341dd7",
   "metadata": {},
   "outputs": [
    {
     "data": {
      "text/plain": [
       "array([[0., 0., 0.],\n",
       "       [0., 1., 2.],\n",
       "       [0., 2., 4.]])"
      ]
     },
     "execution_count": 24,
     "metadata": {},
     "output_type": "execute_result"
    }
   ],
   "source": [
    "np.fromfunction(lambda i,j : i *j, (3,3))"
   ]
  },
  {
   "cell_type": "code",
   "execution_count": 25,
   "id": "e39eeef6-a68d-43e9-958a-047814301e08",
   "metadata": {},
   "outputs": [],
   "source": [
    "iterable=(i*i for i in range(5))"
   ]
  },
  {
   "cell_type": "code",
   "execution_count": 26,
   "id": "a3ef5b20-2657-41fd-ba3e-e54425633945",
   "metadata": {},
   "outputs": [
    {
     "data": {
      "text/plain": [
       "array([ 0.,  1.,  4.,  9., 16.])"
      ]
     },
     "execution_count": 26,
     "metadata": {},
     "output_type": "execute_result"
    }
   ],
   "source": [
    "np.fromiter(iterable,float)"
   ]
  },
  {
   "cell_type": "code",
   "execution_count": 27,
   "id": "7f7abc14-6c03-48e2-a02e-f2fb1f059797",
   "metadata": {},
   "outputs": [
    {
     "data": {
      "text/plain": [
       "array([23., 33.])"
      ]
     },
     "execution_count": 27,
     "metadata": {},
     "output_type": "execute_result"
    }
   ],
   "source": [
    "np.fromstring('23 33',sep=' ')"
   ]
  },
  {
   "cell_type": "code",
   "execution_count": 28,
   "id": "1ff414d8-38b6-4b16-936a-d4058cd757d1",
   "metadata": {},
   "outputs": [
    {
     "data": {
      "text/plain": [
       "array([4., 5.])"
      ]
     },
     "execution_count": 28,
     "metadata": {},
     "output_type": "execute_result"
    }
   ],
   "source": [
    "np.fromstring('4,5', sep=',')"
   ]
  },
  {
   "cell_type": "code",
   "execution_count": 29,
   "id": "d793e6b9-c7c2-4af8-82a2-05e5fbf4dcba",
   "metadata": {},
   "outputs": [],
   "source": [
    "#numpy data types"
   ]
  },
  {
   "cell_type": "code",
   "execution_count": 30,
   "id": "e6aa0cdd-f5fb-49a4-9f3f-1ff2b9943680",
   "metadata": {},
   "outputs": [],
   "source": [
    "l=[1,2,3,4,5]"
   ]
  },
  {
   "cell_type": "code",
   "execution_count": 31,
   "id": "d3f7e1a3-b8e3-4008-b801-d54604834d7b",
   "metadata": {},
   "outputs": [],
   "source": [
    "ar= np.array(l)"
   ]
  },
  {
   "cell_type": "code",
   "execution_count": 32,
   "id": "ba3c41c5-bd4c-4aca-a3f0-e8c774b39abc",
   "metadata": {},
   "outputs": [
    {
     "data": {
      "text/plain": [
       "array([1, 2, 3, 4, 5])"
      ]
     },
     "execution_count": 32,
     "metadata": {},
     "output_type": "execute_result"
    }
   ],
   "source": [
    "ar"
   ]
  },
  {
   "cell_type": "code",
   "execution_count": 33,
   "id": "556fe920-bed7-48eb-8063-85a56187f215",
   "metadata": {},
   "outputs": [
    {
     "data": {
      "text/plain": [
       "1"
      ]
     },
     "execution_count": 33,
     "metadata": {},
     "output_type": "execute_result"
    }
   ],
   "source": [
    "ar.ndim"
   ]
  },
  {
   "cell_type": "code",
   "execution_count": 34,
   "id": "8f79fe9b-1e19-49d6-a008-4a667af19979",
   "metadata": {},
   "outputs": [],
   "source": [
    "ar2= np.array([[1,2,3,4,7],[1,2,3,4,5]])"
   ]
  },
  {
   "cell_type": "code",
   "execution_count": 35,
   "id": "1eaef7b1-9aef-48bb-b16a-14b9e0962c97",
   "metadata": {},
   "outputs": [
    {
     "data": {
      "text/plain": [
       "array([[1, 2, 3, 4, 7],\n",
       "       [1, 2, 3, 4, 5]])"
      ]
     },
     "execution_count": 35,
     "metadata": {},
     "output_type": "execute_result"
    }
   ],
   "source": [
    "ar2"
   ]
  },
  {
   "cell_type": "code",
   "execution_count": 36,
   "id": "4bf77904-e5f9-4dc0-8829-baf83f983256",
   "metadata": {},
   "outputs": [
    {
     "data": {
      "text/plain": [
       "2"
      ]
     },
     "execution_count": 36,
     "metadata": {},
     "output_type": "execute_result"
    }
   ],
   "source": [
    "ar2.ndim   #this is for check the dimenstion for array"
   ]
  },
  {
   "cell_type": "code",
   "execution_count": 37,
   "id": "6c39186a-0c87-4afa-afc8-a8642b974dee",
   "metadata": {},
   "outputs": [
    {
     "data": {
      "text/plain": [
       "array([[0., 0., 0.],\n",
       "       [0., 1., 2.],\n",
       "       [0., 2., 4.]])"
      ]
     },
     "execution_count": 37,
     "metadata": {},
     "output_type": "execute_result"
    }
   ],
   "source": [
    "np.fromfunction(lambda i,j :i*j,(3,3))"
   ]
  },
  {
   "cell_type": "code",
   "execution_count": 38,
   "id": "c0ba7f17-6f3a-41e2-92cf-7fb30fc5bee8",
   "metadata": {},
   "outputs": [],
   "source": [
    "iterable =(i*i for i in range((5)))"
   ]
  },
  {
   "cell_type": "code",
   "execution_count": 39,
   "id": "a7afad88-ba96-4eca-b005-92b50914ad93",
   "metadata": {},
   "outputs": [
    {
     "data": {
      "text/plain": [
       "array([ 0.,  1.,  4.,  9., 16.])"
      ]
     },
     "execution_count": 39,
     "metadata": {},
     "output_type": "execute_result"
    }
   ],
   "source": [
    "np.fromiter(iterable,float)"
   ]
  },
  {
   "cell_type": "code",
   "execution_count": 40,
   "id": "e3b47f02-935e-457e-b202-597f17f21bdf",
   "metadata": {},
   "outputs": [
    {
     "data": {
      "text/plain": [
       "1"
      ]
     },
     "execution_count": 40,
     "metadata": {},
     "output_type": "execute_result"
    }
   ],
   "source": [
    "ar.ndim"
   ]
  },
  {
   "cell_type": "code",
   "execution_count": 41,
   "id": "7ddc5c99-6262-46cb-b507-ab8a1220bb0a",
   "metadata": {},
   "outputs": [
    {
     "data": {
      "text/plain": [
       "2"
      ]
     },
     "execution_count": 41,
     "metadata": {},
     "output_type": "execute_result"
    }
   ],
   "source": [
    "ar2.ndim"
   ]
  },
  {
   "cell_type": "code",
   "execution_count": 42,
   "id": "cedbd82a-4b54-457c-aaaf-16c25a92f348",
   "metadata": {},
   "outputs": [
    {
     "data": {
      "text/plain": [
       "5"
      ]
     },
     "execution_count": 42,
     "metadata": {},
     "output_type": "execute_result"
    }
   ],
   "source": [
    "ar.size  #for check size in array"
   ]
  },
  {
   "cell_type": "code",
   "execution_count": 43,
   "id": "16a89dcb-f7aa-4b96-a9b6-2828770d173d",
   "metadata": {},
   "outputs": [
    {
     "data": {
      "text/plain": [
       "10"
      ]
     },
     "execution_count": 43,
     "metadata": {},
     "output_type": "execute_result"
    }
   ],
   "source": [
    "ar2.size"
   ]
  },
  {
   "cell_type": "code",
   "execution_count": 44,
   "id": "24788b01-cf58-430b-ac88-b052697b12f3",
   "metadata": {},
   "outputs": [
    {
     "data": {
      "text/plain": [
       "array([[1, 2, 3, 4, 7],\n",
       "       [1, 2, 3, 4, 5]])"
      ]
     },
     "execution_count": 44,
     "metadata": {},
     "output_type": "execute_result"
    }
   ],
   "source": [
    "ar2"
   ]
  },
  {
   "cell_type": "code",
   "execution_count": 45,
   "id": "942b2f27-380b-4de1-bb47-232aeb2c34a0",
   "metadata": {},
   "outputs": [
    {
     "data": {
      "text/plain": [
       "(5,)"
      ]
     },
     "execution_count": 45,
     "metadata": {},
     "output_type": "execute_result"
    }
   ],
   "source": [
    "ar.shape #for checking shape"
   ]
  },
  {
   "cell_type": "code",
   "execution_count": 46,
   "id": "ac103fd3-223c-4977-8f10-34312e34ef44",
   "metadata": {},
   "outputs": [
    {
     "data": {
      "text/plain": [
       "(2, 5)"
      ]
     },
     "execution_count": 46,
     "metadata": {},
     "output_type": "execute_result"
    }
   ],
   "source": [
    "ar2.shape"
   ]
  },
  {
   "cell_type": "code",
   "execution_count": 47,
   "id": "82544dac-8b9a-40bc-aa30-3cc83afcc62a",
   "metadata": {},
   "outputs": [
    {
     "data": {
      "text/plain": [
       "dtype('int32')"
      ]
     },
     "execution_count": 47,
     "metadata": {},
     "output_type": "execute_result"
    }
   ],
   "source": [
    "ar.dtype"
   ]
  },
  {
   "cell_type": "code",
   "execution_count": 48,
   "id": "7995d124-52cc-48b6-b65e-cc027022cfb2",
   "metadata": {},
   "outputs": [
    {
     "data": {
      "text/plain": [
       "dtype('int32')"
      ]
     },
     "execution_count": 48,
     "metadata": {},
     "output_type": "execute_result"
    }
   ],
   "source": [
    "ar2.dtype"
   ]
  },
  {
   "cell_type": "code",
   "execution_count": 49,
   "id": "525cacd4-d494-4f5a-92ca-62840c776b5a",
   "metadata": {},
   "outputs": [],
   "source": [
    "ar22 = np.array([(1.4,25,45), (23,45,66)])"
   ]
  },
  {
   "cell_type": "code",
   "execution_count": 50,
   "id": "d7bf6a25-8a29-4dbb-8f8b-887c9ec14dfa",
   "metadata": {},
   "outputs": [
    {
     "data": {
      "text/plain": [
       "array([[ 1.4, 25. , 45. ],\n",
       "       [23. , 45. , 66. ]])"
      ]
     },
     "execution_count": 50,
     "metadata": {},
     "output_type": "execute_result"
    }
   ],
   "source": [
    "ar22"
   ]
  },
  {
   "cell_type": "code",
   "execution_count": 51,
   "id": "10eea8ca-2a58-4ce9-81cd-35cd457f105f",
   "metadata": {},
   "outputs": [
    {
     "data": {
      "text/plain": [
       "dtype('float64')"
      ]
     },
     "execution_count": 51,
     "metadata": {},
     "output_type": "execute_result"
    }
   ],
   "source": [
    "ar22.dtype"
   ]
  },
  {
   "cell_type": "code",
   "execution_count": 52,
   "id": "6ab67976-fc16-4112-84da-36afd7b330df",
   "metadata": {},
   "outputs": [
    {
     "data": {
      "text/plain": [
       "[0, 1, 2, 3, 4]"
      ]
     },
     "execution_count": 52,
     "metadata": {},
     "output_type": "execute_result"
    }
   ],
   "source": [
    "list(range(5))"
   ]
  },
  {
   "cell_type": "code",
   "execution_count": 53,
   "id": "de3bc3bf-0c7b-4835-8007-12f624358b16",
   "metadata": {},
   "outputs": [
    {
     "data": {
      "text/plain": [
       "array([2.3, 3.3, 4.3, 5.3])"
      ]
     },
     "execution_count": 53,
     "metadata": {},
     "output_type": "execute_result"
    }
   ],
   "source": [
    "np.arange(2.3,5.6)"
   ]
  },
  {
   "cell_type": "code",
   "execution_count": 54,
   "id": "05a72698-dbf1-4ed0-ae9b-9e25db40bba7",
   "metadata": {},
   "outputs": [
    {
     "data": {
      "text/plain": [
       "array([2.3, 2.6, 2.9, 3.2, 3.5, 3.8, 4.1, 4.4, 4.7, 5. , 5.3])"
      ]
     },
     "execution_count": 54,
     "metadata": {},
     "output_type": "execute_result"
    }
   ],
   "source": [
    "np.arange(2.3,5.6,.3)"
   ]
  },
  {
   "cell_type": "code",
   "execution_count": 55,
   "id": "27925b44-40be-4395-9f62-520c1cf7beb3",
   "metadata": {},
   "outputs": [
    {
     "data": {
      "text/plain": [
       "[2.3,\n",
       " 2.5999999999999996,\n",
       " 2.8999999999999995,\n",
       " 3.1999999999999993,\n",
       " 3.499999999999999,\n",
       " 3.799999999999999,\n",
       " 4.099999999999999,\n",
       " 4.399999999999999,\n",
       " 4.699999999999998,\n",
       " 4.999999999999998,\n",
       " 5.299999999999998]"
      ]
     },
     "execution_count": 55,
     "metadata": {},
     "output_type": "execute_result"
    }
   ],
   "source": [
    "list(np.arange(2.3,5.6,.3))"
   ]
  },
  {
   "cell_type": "code",
   "execution_count": 56,
   "id": "d1c5c0a8-fa3d-4b83-8135-102a2a7af5c9",
   "metadata": {},
   "outputs": [
    {
     "data": {
      "text/plain": [
       "array([1.        , 1.44444444, 1.88888889, 2.33333333, 2.77777778,\n",
       "       3.22222222, 3.66666667, 4.11111111, 4.55555556, 5.        ])"
      ]
     },
     "execution_count": 56,
     "metadata": {},
     "output_type": "execute_result"
    }
   ],
   "source": [
    "np.linspace(1,5,10)"
   ]
  },
  {
   "cell_type": "code",
   "execution_count": 57,
   "id": "7f7761a1-8f30-431b-ac65-e3ec6f326c3e",
   "metadata": {},
   "outputs": [
    {
     "data": {
      "text/plain": [
       "array([0., 0., 0., 0., 0.])"
      ]
     },
     "execution_count": 57,
     "metadata": {},
     "output_type": "execute_result"
    }
   ],
   "source": [
    "np.zeros(5)"
   ]
  },
  {
   "cell_type": "code",
   "execution_count": 58,
   "id": "0b215248-b1cb-4f7a-8fea-e829db5f59b1",
   "metadata": {},
   "outputs": [],
   "source": [
    "ar4=np.zeros((3,4,2))"
   ]
  },
  {
   "cell_type": "code",
   "execution_count": 59,
   "id": "bef6c3b3-0eeb-415d-9853-ef01ac0b72a2",
   "metadata": {},
   "outputs": [
    {
     "data": {
      "text/plain": [
       "3"
      ]
     },
     "execution_count": 59,
     "metadata": {},
     "output_type": "execute_result"
    }
   ],
   "source": [
    "ar4.ndim"
   ]
  },
  {
   "cell_type": "code",
   "execution_count": 60,
   "id": "7603f39f-137a-48dc-8d9e-5376e297dc7a",
   "metadata": {},
   "outputs": [
    {
     "data": {
      "text/plain": [
       "array([1., 1., 1., 1.])"
      ]
     },
     "execution_count": 60,
     "metadata": {},
     "output_type": "execute_result"
    }
   ],
   "source": [
    "np.ones(4)"
   ]
  },
  {
   "cell_type": "code",
   "execution_count": 61,
   "id": "3af89537-c112-416c-8bd4-e70d6e446bb4",
   "metadata": {},
   "outputs": [],
   "source": [
    "on=np.ones((2,2,2))#like ones and zeros there no more function is avilable"
   ]
  },
  {
   "cell_type": "code",
   "execution_count": 62,
   "id": "44e28046-3930-4338-adba-bbb66424b52f",
   "metadata": {},
   "outputs": [
    {
     "data": {
      "text/plain": [
       "array([[[6., 6.],\n",
       "        [6., 6.]],\n",
       "\n",
       "       [[6., 6.],\n",
       "        [6., 6.]]])"
      ]
     },
     "execution_count": 62,
     "metadata": {},
     "output_type": "execute_result"
    }
   ],
   "source": [
    "on+5"
   ]
  },
  {
   "cell_type": "code",
   "execution_count": 63,
   "id": "18f89e6b-4355-4bd4-916e-cec67192785f",
   "metadata": {},
   "outputs": [
    {
     "data": {
      "text/plain": [
       "array([[[7., 7.],\n",
       "        [7., 7.]],\n",
       "\n",
       "       [[7., 7.],\n",
       "        [7., 7.]]])"
      ]
     },
     "execution_count": 63,
     "metadata": {},
     "output_type": "execute_result"
    }
   ],
   "source": [
    "on+6"
   ]
  },
  {
   "cell_type": "code",
   "execution_count": 64,
   "id": "0b337983-0971-409e-b177-ad0033c0a7ab",
   "metadata": {},
   "outputs": [
    {
     "data": {
      "text/plain": [
       "array([[[11., 11.],\n",
       "        [11., 11.]],\n",
       "\n",
       "       [[11., 11.],\n",
       "        [11., 11.]]])"
      ]
     },
     "execution_count": 64,
     "metadata": {},
     "output_type": "execute_result"
    }
   ],
   "source": [
    "on+10"
   ]
  },
  {
   "cell_type": "code",
   "execution_count": 65,
   "id": "517cc67d-d1f1-41ab-8b28-0d2602c8d3fa",
   "metadata": {},
   "outputs": [
    {
     "data": {
      "text/plain": [
       "array([[[4., 4.],\n",
       "        [4., 4.]],\n",
       "\n",
       "       [[4., 4.],\n",
       "        [4., 4.]]])"
      ]
     },
     "execution_count": 65,
     "metadata": {},
     "output_type": "execute_result"
    }
   ],
   "source": [
    "on*4"
   ]
  },
  {
   "cell_type": "code",
   "execution_count": 66,
   "id": "da3bc2d9-72bb-4638-899a-e393507129c9",
   "metadata": {},
   "outputs": [
    {
     "data": {
      "text/plain": [
       "array([[1.22369366e-311, 3.16202013e-322, 0.00000000e+000,\n",
       "        0.00000000e+000],\n",
       "       [0.00000000e+000, 5.15060809e-062, 1.58871371e-076,\n",
       "        5.48785168e+174],\n",
       "       [6.95237932e-042, 2.67653030e+184, 1.20858881e+161,\n",
       "        1.27970364e+161]])"
      ]
     },
     "execution_count": 66,
     "metadata": {},
     "output_type": "execute_result"
    }
   ],
   "source": [
    "np.empty((3,4))"
   ]
  },
  {
   "cell_type": "code",
   "execution_count": 67,
   "id": "206fedce-1a45-4f90-90f8-c3f848d6f332",
   "metadata": {},
   "outputs": [
    {
     "data": {
      "text/plain": [
       "array([[1., 0., 0., 0.],\n",
       "       [0., 1., 0., 0.],\n",
       "       [0., 0., 1., 0.],\n",
       "       [0., 0., 0., 1.]])"
      ]
     },
     "execution_count": 67,
     "metadata": {},
     "output_type": "execute_result"
    }
   ],
   "source": [
    "np.eye(4)"
   ]
  },
  {
   "cell_type": "code",
   "execution_count": 68,
   "id": "ba218bb7-71bc-4b76-a295-39baae1dc012",
   "metadata": {},
   "outputs": [
    {
     "data": {
      "text/plain": [
       "array([2.        , 2.10526316, 2.21052632, 2.31578947, 2.42105263,\n",
       "       2.52631579, 2.63157895, 2.73684211, 2.84210526, 2.94736842,\n",
       "       3.05263158, 3.15789474, 3.26315789, 3.36842105, 3.47368421,\n",
       "       3.57894737, 3.68421053, 3.78947368, 3.89473684, 4.        ])"
      ]
     },
     "execution_count": 68,
     "metadata": {},
     "output_type": "execute_result"
    }
   ],
   "source": [
    "np.linspace(2,4,20)"
   ]
  },
  {
   "cell_type": "code",
   "execution_count": 69,
   "id": "db2f7900-2e79-4c38-b474-45b5e32a6531",
   "metadata": {},
   "outputs": [
    {
     "data": {
      "text/plain": [
       "array([ 4.        ,  5.0396842 ,  6.34960421,  8.        , 10.0793684 ,\n",
       "       12.69920842, 16.        , 20.1587368 , 25.39841683, 32.        ])"
      ]
     },
     "execution_count": 69,
     "metadata": {},
     "output_type": "execute_result"
    }
   ],
   "source": [
    "np.logspace(2,5,10, base =2)"
   ]
  },
  {
   "cell_type": "code",
   "execution_count": 70,
   "id": "99951a06-b945-4cb0-a358-3566556522f4",
   "metadata": {},
   "outputs": [],
   "source": [
    "arr = np.random.randn(3,4)"
   ]
  },
  {
   "cell_type": "code",
   "execution_count": 71,
   "id": "b6793d73-9825-4b9b-b8c2-ac3a1b15d7ec",
   "metadata": {},
   "outputs": [],
   "source": [
    "import pandas as pd"
   ]
  },
  {
   "cell_type": "code",
   "execution_count": 72,
   "id": "adb4a26c-c63c-411e-8f2d-05fa9970c3f9",
   "metadata": {},
   "outputs": [
    {
     "data": {
      "text/html": [
       "<div>\n",
       "<style scoped>\n",
       "    .dataframe tbody tr th:only-of-type {\n",
       "        vertical-align: middle;\n",
       "    }\n",
       "\n",
       "    .dataframe tbody tr th {\n",
       "        vertical-align: top;\n",
       "    }\n",
       "\n",
       "    .dataframe thead th {\n",
       "        text-align: right;\n",
       "    }\n",
       "</style>\n",
       "<table border=\"1\" class=\"dataframe\">\n",
       "  <thead>\n",
       "    <tr style=\"text-align: right;\">\n",
       "      <th></th>\n",
       "      <th>0</th>\n",
       "      <th>1</th>\n",
       "      <th>2</th>\n",
       "      <th>3</th>\n",
       "    </tr>\n",
       "  </thead>\n",
       "  <tbody>\n",
       "    <tr>\n",
       "      <th>0</th>\n",
       "      <td>0.805893</td>\n",
       "      <td>-1.273461</td>\n",
       "      <td>-1.203737</td>\n",
       "      <td>-0.963884</td>\n",
       "    </tr>\n",
       "    <tr>\n",
       "      <th>1</th>\n",
       "      <td>-0.539102</td>\n",
       "      <td>-1.750293</td>\n",
       "      <td>-0.621438</td>\n",
       "      <td>1.434281</td>\n",
       "    </tr>\n",
       "    <tr>\n",
       "      <th>2</th>\n",
       "      <td>-0.608447</td>\n",
       "      <td>0.736443</td>\n",
       "      <td>-0.354135</td>\n",
       "      <td>1.504411</td>\n",
       "    </tr>\n",
       "  </tbody>\n",
       "</table>\n",
       "</div>"
      ],
      "text/plain": [
       "          0         1         2         3\n",
       "0  0.805893 -1.273461 -1.203737 -0.963884\n",
       "1 -0.539102 -1.750293 -0.621438  1.434281\n",
       "2 -0.608447  0.736443 -0.354135  1.504411"
      ]
     },
     "execution_count": 72,
     "metadata": {},
     "output_type": "execute_result"
    }
   ],
   "source": [
    "pd.DataFrame(arr)"
   ]
  },
  {
   "cell_type": "code",
   "execution_count": 73,
   "id": "840d655d-7976-4ad4-a66b-88372ba771aa",
   "metadata": {},
   "outputs": [
    {
     "data": {
      "text/plain": [
       "array([[0.3725792 , 0.85441208, 0.04201866, 0.26052831],\n",
       "       [0.40674641, 0.36504038, 0.36291578, 0.72752115],\n",
       "       [0.09097501, 0.25492465, 0.47840682, 0.14643672]])"
      ]
     },
     "execution_count": 73,
     "metadata": {},
     "output_type": "execute_result"
    }
   ],
   "source": [
    "np.random.rand(3,4)"
   ]
  },
  {
   "cell_type": "code",
   "execution_count": 74,
   "id": "4bc4ff9d-b8b6-49f7-9c47-43027de742e5",
   "metadata": {},
   "outputs": [
    {
     "data": {
      "text/plain": [
       "array([[0.6443593 , 0.70645589, 0.59338167, 0.12929235],\n",
       "       [0.19646824, 0.35960419, 0.32000242, 0.86261336],\n",
       "       [0.29990037, 0.18685509, 0.15253136, 0.23500762]])"
      ]
     },
     "execution_count": 74,
     "metadata": {},
     "output_type": "execute_result"
    }
   ],
   "source": [
    "np.random.rand(3,4)"
   ]
  },
  {
   "cell_type": "code",
   "execution_count": 75,
   "id": "d7d71e56-9704-496d-982f-92abd2c01a65",
   "metadata": {},
   "outputs": [],
   "source": [
    "ultimate=np.random.randint(3,110,(300,400))"
   ]
  },
  {
   "cell_type": "code",
   "execution_count": 76,
   "id": "9120b559-bb38-43df-8205-dab6f6c610b8",
   "metadata": {},
   "outputs": [
    {
     "data": {
      "text/html": [
       "<div>\n",
       "<style scoped>\n",
       "    .dataframe tbody tr th:only-of-type {\n",
       "        vertical-align: middle;\n",
       "    }\n",
       "\n",
       "    .dataframe tbody tr th {\n",
       "        vertical-align: top;\n",
       "    }\n",
       "\n",
       "    .dataframe thead th {\n",
       "        text-align: right;\n",
       "    }\n",
       "</style>\n",
       "<table border=\"1\" class=\"dataframe\">\n",
       "  <thead>\n",
       "    <tr style=\"text-align: right;\">\n",
       "      <th></th>\n",
       "      <th>0</th>\n",
       "      <th>1</th>\n",
       "      <th>2</th>\n",
       "      <th>3</th>\n",
       "      <th>4</th>\n",
       "      <th>5</th>\n",
       "      <th>6</th>\n",
       "      <th>7</th>\n",
       "      <th>8</th>\n",
       "      <th>9</th>\n",
       "      <th>...</th>\n",
       "      <th>390</th>\n",
       "      <th>391</th>\n",
       "      <th>392</th>\n",
       "      <th>393</th>\n",
       "      <th>394</th>\n",
       "      <th>395</th>\n",
       "      <th>396</th>\n",
       "      <th>397</th>\n",
       "      <th>398</th>\n",
       "      <th>399</th>\n",
       "    </tr>\n",
       "  </thead>\n",
       "  <tbody>\n",
       "    <tr>\n",
       "      <th>0</th>\n",
       "      <td>107</td>\n",
       "      <td>19</td>\n",
       "      <td>21</td>\n",
       "      <td>44</td>\n",
       "      <td>51</td>\n",
       "      <td>22</td>\n",
       "      <td>9</td>\n",
       "      <td>35</td>\n",
       "      <td>92</td>\n",
       "      <td>59</td>\n",
       "      <td>...</td>\n",
       "      <td>108</td>\n",
       "      <td>84</td>\n",
       "      <td>37</td>\n",
       "      <td>77</td>\n",
       "      <td>107</td>\n",
       "      <td>37</td>\n",
       "      <td>54</td>\n",
       "      <td>80</td>\n",
       "      <td>5</td>\n",
       "      <td>4</td>\n",
       "    </tr>\n",
       "    <tr>\n",
       "      <th>1</th>\n",
       "      <td>86</td>\n",
       "      <td>73</td>\n",
       "      <td>76</td>\n",
       "      <td>83</td>\n",
       "      <td>73</td>\n",
       "      <td>103</td>\n",
       "      <td>59</td>\n",
       "      <td>108</td>\n",
       "      <td>105</td>\n",
       "      <td>31</td>\n",
       "      <td>...</td>\n",
       "      <td>89</td>\n",
       "      <td>87</td>\n",
       "      <td>81</td>\n",
       "      <td>19</td>\n",
       "      <td>30</td>\n",
       "      <td>102</td>\n",
       "      <td>26</td>\n",
       "      <td>32</td>\n",
       "      <td>37</td>\n",
       "      <td>55</td>\n",
       "    </tr>\n",
       "    <tr>\n",
       "      <th>2</th>\n",
       "      <td>3</td>\n",
       "      <td>81</td>\n",
       "      <td>81</td>\n",
       "      <td>72</td>\n",
       "      <td>46</td>\n",
       "      <td>84</td>\n",
       "      <td>46</td>\n",
       "      <td>12</td>\n",
       "      <td>20</td>\n",
       "      <td>105</td>\n",
       "      <td>...</td>\n",
       "      <td>6</td>\n",
       "      <td>77</td>\n",
       "      <td>92</td>\n",
       "      <td>35</td>\n",
       "      <td>52</td>\n",
       "      <td>62</td>\n",
       "      <td>5</td>\n",
       "      <td>28</td>\n",
       "      <td>21</td>\n",
       "      <td>90</td>\n",
       "    </tr>\n",
       "    <tr>\n",
       "      <th>3</th>\n",
       "      <td>5</td>\n",
       "      <td>12</td>\n",
       "      <td>39</td>\n",
       "      <td>43</td>\n",
       "      <td>11</td>\n",
       "      <td>80</td>\n",
       "      <td>84</td>\n",
       "      <td>93</td>\n",
       "      <td>42</td>\n",
       "      <td>44</td>\n",
       "      <td>...</td>\n",
       "      <td>45</td>\n",
       "      <td>30</td>\n",
       "      <td>56</td>\n",
       "      <td>65</td>\n",
       "      <td>33</td>\n",
       "      <td>24</td>\n",
       "      <td>35</td>\n",
       "      <td>12</td>\n",
       "      <td>108</td>\n",
       "      <td>105</td>\n",
       "    </tr>\n",
       "    <tr>\n",
       "      <th>4</th>\n",
       "      <td>24</td>\n",
       "      <td>9</td>\n",
       "      <td>85</td>\n",
       "      <td>68</td>\n",
       "      <td>52</td>\n",
       "      <td>93</td>\n",
       "      <td>28</td>\n",
       "      <td>95</td>\n",
       "      <td>36</td>\n",
       "      <td>49</td>\n",
       "      <td>...</td>\n",
       "      <td>29</td>\n",
       "      <td>98</td>\n",
       "      <td>65</td>\n",
       "      <td>103</td>\n",
       "      <td>92</td>\n",
       "      <td>30</td>\n",
       "      <td>41</td>\n",
       "      <td>23</td>\n",
       "      <td>69</td>\n",
       "      <td>70</td>\n",
       "    </tr>\n",
       "    <tr>\n",
       "      <th>...</th>\n",
       "      <td>...</td>\n",
       "      <td>...</td>\n",
       "      <td>...</td>\n",
       "      <td>...</td>\n",
       "      <td>...</td>\n",
       "      <td>...</td>\n",
       "      <td>...</td>\n",
       "      <td>...</td>\n",
       "      <td>...</td>\n",
       "      <td>...</td>\n",
       "      <td>...</td>\n",
       "      <td>...</td>\n",
       "      <td>...</td>\n",
       "      <td>...</td>\n",
       "      <td>...</td>\n",
       "      <td>...</td>\n",
       "      <td>...</td>\n",
       "      <td>...</td>\n",
       "      <td>...</td>\n",
       "      <td>...</td>\n",
       "      <td>...</td>\n",
       "    </tr>\n",
       "    <tr>\n",
       "      <th>295</th>\n",
       "      <td>75</td>\n",
       "      <td>69</td>\n",
       "      <td>76</td>\n",
       "      <td>57</td>\n",
       "      <td>51</td>\n",
       "      <td>63</td>\n",
       "      <td>21</td>\n",
       "      <td>14</td>\n",
       "      <td>46</td>\n",
       "      <td>61</td>\n",
       "      <td>...</td>\n",
       "      <td>29</td>\n",
       "      <td>24</td>\n",
       "      <td>27</td>\n",
       "      <td>35</td>\n",
       "      <td>55</td>\n",
       "      <td>15</td>\n",
       "      <td>13</td>\n",
       "      <td>6</td>\n",
       "      <td>44</td>\n",
       "      <td>38</td>\n",
       "    </tr>\n",
       "    <tr>\n",
       "      <th>296</th>\n",
       "      <td>57</td>\n",
       "      <td>78</td>\n",
       "      <td>69</td>\n",
       "      <td>7</td>\n",
       "      <td>77</td>\n",
       "      <td>31</td>\n",
       "      <td>75</td>\n",
       "      <td>60</td>\n",
       "      <td>47</td>\n",
       "      <td>51</td>\n",
       "      <td>...</td>\n",
       "      <td>83</td>\n",
       "      <td>101</td>\n",
       "      <td>21</td>\n",
       "      <td>100</td>\n",
       "      <td>34</td>\n",
       "      <td>68</td>\n",
       "      <td>96</td>\n",
       "      <td>21</td>\n",
       "      <td>4</td>\n",
       "      <td>62</td>\n",
       "    </tr>\n",
       "    <tr>\n",
       "      <th>297</th>\n",
       "      <td>93</td>\n",
       "      <td>25</td>\n",
       "      <td>10</td>\n",
       "      <td>71</td>\n",
       "      <td>67</td>\n",
       "      <td>38</td>\n",
       "      <td>32</td>\n",
       "      <td>55</td>\n",
       "      <td>25</td>\n",
       "      <td>34</td>\n",
       "      <td>...</td>\n",
       "      <td>7</td>\n",
       "      <td>52</td>\n",
       "      <td>86</td>\n",
       "      <td>27</td>\n",
       "      <td>48</td>\n",
       "      <td>28</td>\n",
       "      <td>100</td>\n",
       "      <td>86</td>\n",
       "      <td>67</td>\n",
       "      <td>74</td>\n",
       "    </tr>\n",
       "    <tr>\n",
       "      <th>298</th>\n",
       "      <td>24</td>\n",
       "      <td>36</td>\n",
       "      <td>53</td>\n",
       "      <td>6</td>\n",
       "      <td>79</td>\n",
       "      <td>31</td>\n",
       "      <td>24</td>\n",
       "      <td>22</td>\n",
       "      <td>7</td>\n",
       "      <td>98</td>\n",
       "      <td>...</td>\n",
       "      <td>83</td>\n",
       "      <td>9</td>\n",
       "      <td>46</td>\n",
       "      <td>48</td>\n",
       "      <td>27</td>\n",
       "      <td>40</td>\n",
       "      <td>59</td>\n",
       "      <td>15</td>\n",
       "      <td>71</td>\n",
       "      <td>99</td>\n",
       "    </tr>\n",
       "    <tr>\n",
       "      <th>299</th>\n",
       "      <td>64</td>\n",
       "      <td>91</td>\n",
       "      <td>48</td>\n",
       "      <td>71</td>\n",
       "      <td>102</td>\n",
       "      <td>30</td>\n",
       "      <td>91</td>\n",
       "      <td>67</td>\n",
       "      <td>3</td>\n",
       "      <td>48</td>\n",
       "      <td>...</td>\n",
       "      <td>68</td>\n",
       "      <td>42</td>\n",
       "      <td>8</td>\n",
       "      <td>64</td>\n",
       "      <td>64</td>\n",
       "      <td>109</td>\n",
       "      <td>10</td>\n",
       "      <td>21</td>\n",
       "      <td>96</td>\n",
       "      <td>14</td>\n",
       "    </tr>\n",
       "  </tbody>\n",
       "</table>\n",
       "<p>300 rows × 400 columns</p>\n",
       "</div>"
      ],
      "text/plain": [
       "     0    1    2    3    4    5    6    7    8    9    ...  390  391  392  \\\n",
       "0    107   19   21   44   51   22    9   35   92   59  ...  108   84   37   \n",
       "1     86   73   76   83   73  103   59  108  105   31  ...   89   87   81   \n",
       "2      3   81   81   72   46   84   46   12   20  105  ...    6   77   92   \n",
       "3      5   12   39   43   11   80   84   93   42   44  ...   45   30   56   \n",
       "4     24    9   85   68   52   93   28   95   36   49  ...   29   98   65   \n",
       "..   ...  ...  ...  ...  ...  ...  ...  ...  ...  ...  ...  ...  ...  ...   \n",
       "295   75   69   76   57   51   63   21   14   46   61  ...   29   24   27   \n",
       "296   57   78   69    7   77   31   75   60   47   51  ...   83  101   21   \n",
       "297   93   25   10   71   67   38   32   55   25   34  ...    7   52   86   \n",
       "298   24   36   53    6   79   31   24   22    7   98  ...   83    9   46   \n",
       "299   64   91   48   71  102   30   91   67    3   48  ...   68   42    8   \n",
       "\n",
       "     393  394  395  396  397  398  399  \n",
       "0     77  107   37   54   80    5    4  \n",
       "1     19   30  102   26   32   37   55  \n",
       "2     35   52   62    5   28   21   90  \n",
       "3     65   33   24   35   12  108  105  \n",
       "4    103   92   30   41   23   69   70  \n",
       "..   ...  ...  ...  ...  ...  ...  ...  \n",
       "295   35   55   15   13    6   44   38  \n",
       "296  100   34   68   96   21    4   62  \n",
       "297   27   48   28  100   86   67   74  \n",
       "298   48   27   40   59   15   71   99  \n",
       "299   64   64  109   10   21   96   14  \n",
       "\n",
       "[300 rows x 400 columns]"
      ]
     },
     "execution_count": 76,
     "metadata": {},
     "output_type": "execute_result"
    }
   ],
   "source": [
    "pd.DataFrame(ultimate)"
   ]
  },
  {
   "cell_type": "code",
   "execution_count": 77,
   "id": "1b3cc82d-dc5c-4a0a-a149-571522bbe176",
   "metadata": {},
   "outputs": [],
   "source": [
    "pd.DataFrame(ultimate).to_csv('test.csv')"
   ]
  },
  {
   "cell_type": "code",
   "execution_count": 78,
   "id": "044cc481-390c-4f67-8cfa-522ab5350c49",
   "metadata": {},
   "outputs": [],
   "source": [
    "arr= np.random.rand(3,4)"
   ]
  },
  {
   "cell_type": "code",
   "execution_count": 79,
   "id": "afa8c1c8-317f-4445-a45d-41b1c23d0522",
   "metadata": {},
   "outputs": [
    {
     "data": {
      "text/plain": [
       "array([[0.9830104 , 0.1117468 , 0.04344833, 0.6231787 ],\n",
       "       [0.18509661, 0.26315584, 0.02880242, 0.09489229],\n",
       "       [0.84273992, 0.45048058, 0.81545844, 0.84345896]])"
      ]
     },
     "execution_count": 79,
     "metadata": {},
     "output_type": "execute_result"
    }
   ],
   "source": [
    "arr"
   ]
  },
  {
   "cell_type": "code",
   "execution_count": 80,
   "id": "09dd2559-0e7b-41d0-8dd1-18872de79d82",
   "metadata": {},
   "outputs": [],
   "source": [
    "arr1=arr.reshape(6,2)  #this is basically rearange the data"
   ]
  },
  {
   "cell_type": "code",
   "execution_count": 81,
   "id": "9fed2eae-f4fe-4d7f-8153-e81eef1fa9e5",
   "metadata": {},
   "outputs": [
    {
     "data": {
      "text/plain": [
       "0.6231787037690795"
      ]
     },
     "execution_count": 81,
     "metadata": {},
     "output_type": "execute_result"
    }
   ],
   "source": [
    "arr1[1][1]"
   ]
  },
  {
   "cell_type": "code",
   "execution_count": 82,
   "id": "c5cfac2b-831a-40ce-9cd8-9c39b482f521",
   "metadata": {},
   "outputs": [
    {
     "data": {
      "text/plain": [
       "array([0.26315584, 0.09489229, 0.45048058])"
      ]
     },
     "execution_count": 82,
     "metadata": {},
     "output_type": "execute_result"
    }
   ],
   "source": [
    "arr1[2:5,1]"
   ]
  },
  {
   "cell_type": "code",
   "execution_count": 83,
   "id": "420f92c4-bf2f-4d79-bdf8-163e55974f33",
   "metadata": {},
   "outputs": [],
   "source": [
    "arr =np.random.randint(1,100,(5,5))"
   ]
  },
  {
   "cell_type": "code",
   "execution_count": 84,
   "id": "986396c8-b972-467d-8ef8-5ed371a74783",
   "metadata": {},
   "outputs": [
    {
     "data": {
      "text/plain": [
       "array([[91, 36, 73, 77, 61],\n",
       "       [28, 44, 84, 25, 37],\n",
       "       [22, 54, 35, 60, 45],\n",
       "       [46, 24, 94, 87, 78],\n",
       "       [99,  7, 23, 17, 35]])"
      ]
     },
     "execution_count": 84,
     "metadata": {},
     "output_type": "execute_result"
    }
   ],
   "source": [
    "arr"
   ]
  },
  {
   "cell_type": "code",
   "execution_count": 85,
   "id": "f401d051-3051-4285-a791-d6d3fbb0d677",
   "metadata": {},
   "outputs": [
    {
     "data": {
      "text/plain": [
       "array([91, 73, 77, 61, 84, 54, 60, 94, 87, 78, 99])"
      ]
     },
     "execution_count": 85,
     "metadata": {},
     "output_type": "execute_result"
    }
   ],
   "source": [
    "arr[arr>50]"
   ]
  },
  {
   "cell_type": "code",
   "execution_count": 86,
   "id": "f5f63bf7-e231-4125-9a0a-d9702eae032c",
   "metadata": {},
   "outputs": [
    {
     "data": {
      "text/plain": [
       "array([[91, 36, 73, 77, 61],\n",
       "       [28, 44, 84, 25, 37],\n",
       "       [22, 54, 35, 60, 45],\n",
       "       [46, 24, 94, 87, 78],\n",
       "       [99,  7, 23, 17, 35]])"
      ]
     },
     "execution_count": 86,
     "metadata": {},
     "output_type": "execute_result"
    }
   ],
   "source": [
    "arr"
   ]
  },
  {
   "cell_type": "code",
   "execution_count": 87,
   "id": "94e9cd2e-6caf-4019-ac2c-79d41d1be304",
   "metadata": {},
   "outputs": [
    {
     "data": {
      "text/plain": [
       "array([[54, 35],\n",
       "       [24, 94]])"
      ]
     },
     "execution_count": 87,
     "metadata": {},
     "output_type": "execute_result"
    }
   ],
   "source": [
    "arr[2:4,[1,2]]"
   ]
  },
  {
   "cell_type": "code",
   "execution_count": 88,
   "id": "f88aa803-8825-49d3-9520-5a9f331eabab",
   "metadata": {},
   "outputs": [],
   "source": [
    "arr[0][0]=5000"
   ]
  },
  {
   "cell_type": "code",
   "execution_count": 89,
   "id": "2627f5a4-787b-4550-b083-7f3741ba0210",
   "metadata": {},
   "outputs": [
    {
     "data": {
      "text/plain": [
       "array([[5000,   36,   73,   77,   61],\n",
       "       [  28,   44,   84,   25,   37],\n",
       "       [  22,   54,   35,   60,   45],\n",
       "       [  46,   24,   94,   87,   78],\n",
       "       [  99,    7,   23,   17,   35]])"
      ]
     },
     "execution_count": 89,
     "metadata": {},
     "output_type": "execute_result"
    }
   ],
   "source": [
    "arr"
   ]
  },
  {
   "cell_type": "code",
   "execution_count": 90,
   "id": "208aff01-a2d3-4605-bfeb-928e4e54e8f9",
   "metadata": {},
   "outputs": [],
   "source": [
    "arr1=np.random.randint(1,3,(3,3))\n",
    "arr2=np.random.randint(1,3,(3,3))"
   ]
  },
  {
   "cell_type": "code",
   "execution_count": 91,
   "id": "5f491b49-0fe2-4f8f-85a7-49989aa786af",
   "metadata": {},
   "outputs": [
    {
     "data": {
      "text/plain": [
       "array([[2, 1, 1],\n",
       "       [1, 2, 1],\n",
       "       [2, 2, 1]])"
      ]
     },
     "execution_count": 91,
     "metadata": {},
     "output_type": "execute_result"
    }
   ],
   "source": [
    "arr2"
   ]
  },
  {
   "cell_type": "code",
   "execution_count": 92,
   "id": "8bddcfb4-f0e4-4ba8-92a6-844d9481eebb",
   "metadata": {},
   "outputs": [
    {
     "data": {
      "text/plain": [
       "array([[1, 1, 2],\n",
       "       [2, 2, 1],\n",
       "       [1, 1, 2]])"
      ]
     },
     "execution_count": 92,
     "metadata": {},
     "output_type": "execute_result"
    }
   ],
   "source": [
    "arr1"
   ]
  },
  {
   "cell_type": "code",
   "execution_count": 93,
   "id": "67b4fcad-fe98-4f83-a40f-e027f81f9890",
   "metadata": {},
   "outputs": [
    {
     "data": {
      "text/plain": [
       "array([[3, 2, 3],\n",
       "       [3, 4, 2],\n",
       "       [3, 3, 3]])"
      ]
     },
     "execution_count": 93,
     "metadata": {},
     "output_type": "execute_result"
    }
   ],
   "source": [
    "arr1+arr2"
   ]
  },
  {
   "cell_type": "code",
   "execution_count": 94,
   "id": "abb00459-d87a-4e11-afad-54274a2d4e7a",
   "metadata": {},
   "outputs": [
    {
     "data": {
      "text/plain": [
       "array([[2, 1, 2],\n",
       "       [2, 4, 1],\n",
       "       [2, 2, 2]])"
      ]
     },
     "execution_count": 94,
     "metadata": {},
     "output_type": "execute_result"
    }
   ],
   "source": [
    "arr1*arr2"
   ]
  },
  {
   "cell_type": "code",
   "execution_count": 95,
   "id": "6587d343-603b-465d-9f2e-a68969481b84",
   "metadata": {},
   "outputs": [
    {
     "data": {
      "text/plain": [
       "array([[-1,  0,  1],\n",
       "       [ 1,  0,  0],\n",
       "       [-1, -1,  1]])"
      ]
     },
     "execution_count": 95,
     "metadata": {},
     "output_type": "execute_result"
    }
   ],
   "source": [
    "arr1-arr2"
   ]
  },
  {
   "cell_type": "code",
   "execution_count": 96,
   "id": "152da1ca-1df6-46d1-97d9-4f270d2e70ee",
   "metadata": {},
   "outputs": [
    {
     "data": {
      "text/plain": [
       "array([[0.5, 1. , 2. ],\n",
       "       [2. , 1. , 1. ],\n",
       "       [0.5, 0.5, 2. ]])"
      ]
     },
     "execution_count": 96,
     "metadata": {},
     "output_type": "execute_result"
    }
   ],
   "source": [
    "arr1/arr2"
   ]
  },
  {
   "cell_type": "code",
   "execution_count": 97,
   "id": "87fddbc4-0c61-498a-8394-33bbf6aa9115",
   "metadata": {},
   "outputs": [
    {
     "data": {
      "text/plain": [
       "array([[1, 1, 2],\n",
       "       [2, 2, 1],\n",
       "       [1, 1, 2]])"
      ]
     },
     "execution_count": 97,
     "metadata": {},
     "output_type": "execute_result"
    }
   ],
   "source": [
    "arr1"
   ]
  },
  {
   "cell_type": "code",
   "execution_count": 98,
   "id": "9db9da3a-5f58-47ac-ace5-e4dc8251d93c",
   "metadata": {},
   "outputs": [
    {
     "data": {
      "text/plain": [
       "array([[2, 1, 1],\n",
       "       [1, 2, 1],\n",
       "       [2, 2, 1]])"
      ]
     },
     "execution_count": 98,
     "metadata": {},
     "output_type": "execute_result"
    }
   ],
   "source": [
    "arr2"
   ]
  },
  {
   "cell_type": "code",
   "execution_count": 99,
   "id": "0060df66-8561-44ce-b88e-748f2ea09e98",
   "metadata": {},
   "outputs": [
    {
     "data": {
      "text/plain": [
       "array([[7, 7, 4],\n",
       "       [8, 8, 5],\n",
       "       [7, 7, 4]])"
      ]
     },
     "execution_count": 99,
     "metadata": {},
     "output_type": "execute_result"
    }
   ],
   "source": [
    "arr1@arr2 #this is used for matrix multipuction"
   ]
  },
  {
   "cell_type": "code",
   "execution_count": 100,
   "id": "e5a10eb3-f62f-4f10-9280-b630514953ee",
   "metadata": {},
   "outputs": [
    {
     "name": "stderr",
     "output_type": "stream",
     "text": [
      "C:\\Users\\DELL\\AppData\\Local\\Temp\\ipykernel_19392\\1510032488.py:1: RuntimeWarning: divide by zero encountered in divide\n",
      "  arr1/0\n"
     ]
    },
    {
     "data": {
      "text/plain": [
       "array([[inf, inf, inf],\n",
       "       [inf, inf, inf],\n",
       "       [inf, inf, inf]])"
      ]
     },
     "execution_count": 100,
     "metadata": {},
     "output_type": "execute_result"
    }
   ],
   "source": [
    "arr1/0"
   ]
  },
  {
   "cell_type": "code",
   "execution_count": 101,
   "id": "db8d88bb-99fa-41c5-b027-7aa41c30aca6",
   "metadata": {},
   "outputs": [
    {
     "data": {
      "text/plain": [
       "array([[101, 101, 102],\n",
       "       [102, 102, 101],\n",
       "       [101, 101, 102]])"
      ]
     },
     "execution_count": 101,
     "metadata": {},
     "output_type": "execute_result"
    }
   ],
   "source": [
    "arr1+100"
   ]
  },
  {
   "cell_type": "code",
   "execution_count": 102,
   "id": "a819e648-b294-4f52-ba17-30c8158b9aaa",
   "metadata": {},
   "outputs": [
    {
     "data": {
      "text/plain": [
       "array([[1, 1, 4],\n",
       "       [4, 4, 1],\n",
       "       [1, 1, 4]])"
      ]
     },
     "execution_count": 102,
     "metadata": {},
     "output_type": "execute_result"
    }
   ],
   "source": [
    "arr1**2"
   ]
  },
  {
   "cell_type": "code",
   "execution_count": 103,
   "id": "7b9beaec-15b3-4c77-be88-0a80fec52467",
   "metadata": {},
   "outputs": [],
   "source": [
    "#braodcastion in case of numpy"
   ]
  },
  {
   "cell_type": "code",
   "execution_count": 104,
   "id": "cbc2452a-95a1-4a83-921e-5190d82b8fd4",
   "metadata": {},
   "outputs": [],
   "source": [
    "arr=np.zeros((4,4))"
   ]
  },
  {
   "cell_type": "code",
   "execution_count": 105,
   "id": "c12c4dbb-3930-433f-b69d-286b8433155a",
   "metadata": {},
   "outputs": [
    {
     "data": {
      "text/plain": [
       "array([[0., 0., 0., 0.],\n",
       "       [0., 0., 0., 0.],\n",
       "       [0., 0., 0., 0.],\n",
       "       [0., 0., 0., 0.]])"
      ]
     },
     "execution_count": 105,
     "metadata": {},
     "output_type": "execute_result"
    }
   ],
   "source": [
    "arr"
   ]
  },
  {
   "cell_type": "code",
   "execution_count": 106,
   "id": "0488e181-e6cb-4054-aac1-b43f37b99516",
   "metadata": {},
   "outputs": [],
   "source": [
    "row =np.array([1,2,3,4])"
   ]
  },
  {
   "cell_type": "code",
   "execution_count": 107,
   "id": "64134fa4-8589-4f75-8a1e-ca993ebec8dd",
   "metadata": {},
   "outputs": [
    {
     "data": {
      "text/plain": [
       "array([1, 2, 3, 4])"
      ]
     },
     "execution_count": 107,
     "metadata": {},
     "output_type": "execute_result"
    }
   ],
   "source": [
    "row"
   ]
  },
  {
   "cell_type": "code",
   "execution_count": 108,
   "id": "9b091ae8-8491-4c13-984b-585fe501147e",
   "metadata": {},
   "outputs": [],
   "source": [
    "arr= row"
   ]
  },
  {
   "cell_type": "code",
   "execution_count": 109,
   "id": "dfa2ee38-aaa6-4ff9-bf3f-a533f69aa523",
   "metadata": {},
   "outputs": [
    {
     "data": {
      "text/plain": [
       "array([2, 4, 6, 8])"
      ]
     },
     "execution_count": 109,
     "metadata": {},
     "output_type": "execute_result"
    }
   ],
   "source": [
    "arr+row"
   ]
  },
  {
   "cell_type": "code",
   "execution_count": 110,
   "id": "1d09e7cd-ea36-4c68-ab86-c5ab1459e300",
   "metadata": {},
   "outputs": [
    {
     "data": {
      "text/plain": [
       "array([1, 2, 3, 4])"
      ]
     },
     "execution_count": 110,
     "metadata": {},
     "output_type": "execute_result"
    }
   ],
   "source": [
    "row.T"
   ]
  },
  {
   "cell_type": "code",
   "execution_count": 113,
   "id": "39b58d0c-7c15-4bc2-8753-f246a7417883",
   "metadata": {},
   "outputs": [
    {
     "data": {
      "text/plain": [
       "array([1, 2, 3, 4])"
      ]
     },
     "execution_count": 113,
     "metadata": {},
     "output_type": "execute_result"
    }
   ],
   "source": [
    "row.T"
   ]
  },
  {
   "cell_type": "code",
   "execution_count": 114,
   "id": "cc15a286-c811-423a-ad90-58eecdd2d7b2",
   "metadata": {},
   "outputs": [],
   "source": [
    "at=np.zeros((4,4))"
   ]
  },
  {
   "cell_type": "code",
   "execution_count": 115,
   "id": "8d1d021c-4c19-4d51-838b-31023f873823",
   "metadata": {},
   "outputs": [
    {
     "data": {
      "text/plain": [
       "array([[23., 23., 23., 23.],\n",
       "       [23., 23., 23., 23.],\n",
       "       [23., 23., 23., 23.],\n",
       "       [23., 23., 23., 23.]])"
      ]
     },
     "execution_count": 115,
     "metadata": {},
     "output_type": "execute_result"
    }
   ],
   "source": [
    "at+23"
   ]
  },
  {
   "cell_type": "code",
   "execution_count": null,
   "id": "3ec88453-cdb4-463e-b0d6-6b1e08f24db7",
   "metadata": {},
   "outputs": [],
   "source": []
  }
 ],
 "metadata": {
  "kernelspec": {
   "display_name": "Python 3 (ipykernel)",
   "language": "python",
   "name": "python3"
  },
  "language_info": {
   "codemirror_mode": {
    "name": "ipython",
    "version": 3
   },
   "file_extension": ".py",
   "mimetype": "text/x-python",
   "name": "python",
   "nbconvert_exporter": "python",
   "pygments_lexer": "ipython3",
   "version": "3.11.4"
  }
 },
 "nbformat": 4,
 "nbformat_minor": 5
}
